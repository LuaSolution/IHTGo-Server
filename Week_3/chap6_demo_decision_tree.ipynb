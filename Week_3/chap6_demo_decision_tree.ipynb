{
  "nbformat": 4,
  "nbformat_minor": 0,
  "metadata": {
    "colab": {
      "name": "chap6_demo_decision_tree.ipynb",
      "provenance": [],
      "authorship_tag": "ABX9TyMhN9W4J2rAwCoBCZ8Exa1z",
      "include_colab_link": true
    },
    "kernelspec": {
      "name": "python3",
      "display_name": "Python 3"
    }
  },
  "cells": [
    {
      "cell_type": "markdown",
      "metadata": {
        "id": "view-in-github",
        "colab_type": "text"
      },
      "source": [
        "<a href=\"https://colab.research.google.com/github/LuaSolution/IHTGo-Server/blob/master/Week_3/chap6_demo_decision_tree.ipynb\" target=\"_parent\"><img src=\"https://colab.research.google.com/assets/colab-badge.svg\" alt=\"Open In Colab\"/></a>"
      ]
    },
    {
      "cell_type": "markdown",
      "metadata": {
        "id": "jEorijR206pY"
      },
      "source": [
        "# **Chapter 6 - Demo: Decision Tree**"
      ]
    },
    {
      "cell_type": "code",
      "metadata": {
        "id": "6y1IbcGz1AwQ"
      },
      "source": [
        ""
      ],
      "execution_count": null,
      "outputs": []
    }
  ]
}